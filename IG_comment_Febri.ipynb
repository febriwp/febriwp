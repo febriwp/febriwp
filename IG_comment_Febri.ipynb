{
 "cells": [
  {
   "cell_type": "code",
   "execution_count": 214,
   "id": "7982bd7e",
   "metadata": {},
   "outputs": [],
   "source": [
    "# selenium import here\n",
    "from selenium import webdriver\n",
    "\n",
    "from selenium.webdriver.common.keys import Keys\n",
    "\n",
    "from selenium.webdriver.support import expected_conditions as EC\n",
    "\n",
    "from selenium.webdriver.common.by import By\n",
    "\n",
    "from selenium.webdriver.support.wait import WebDriverWait\n",
    "\n",
    "import time\n",
    "\n",
    "import random"
   ]
  },
  {
   "cell_type": "code",
   "execution_count": 215,
   "id": "e7bb432d",
   "metadata": {},
   "outputs": [],
   "source": [
    "driver = webdriver.Chrome ('C:/Users/dkurn/chromedriver_win32/chromedriver.exe')\n",
    "driver.get(\"https://www.instagram.com/\")\n",
    "time.sleep(5)"
   ]
  },
  {
   "cell_type": "code",
   "execution_count": 216,
   "id": "bce2cf66",
   "metadata": {},
   "outputs": [],
   "source": [
    "username = WebDriverWait(driver,10).until(EC.element_to_be_clickable((By.CSS_SELECTOR,\"input[name='username']\")))\n",
    "password = WebDriverWait(driver,10).until(EC.element_to_be_clickable((By.CSS_SELECTOR,\"input[name='password']\")))\n",
    "\n",
    "username.clear()\n",
    "password.clear()\n",
    "\n",
    "username.send_keys(\"febriwibawaparsa\")\n",
    "password.send_keys(\"1sampai10\")"
   ]
  },
  {
   "cell_type": "code",
   "execution_count": 217,
   "id": "c89ad9c8",
   "metadata": {},
   "outputs": [],
   "source": [
    "log_in = WebDriverWait(driver,10).until(EC.element_to_be_clickable((By.CSS_SELECTOR,\"button[type='submit']\"))).click()\n"
   ]
  },
  {
   "cell_type": "code",
   "execution_count": 218,
   "id": "e2c0b71d",
   "metadata": {},
   "outputs": [],
   "source": [
    "time.sleep(5)\n",
    "not_now = WebDriverWait(driver,10).until(EC.element_to_be_clickable((By.XPATH,\"//button[contains(text(),'Not Now')]\"))).click()\n",
    "not_now2 = WebDriverWait(driver,10).until(EC.element_to_be_clickable((By.XPATH,\"//button[contains(text(),'Not Now')]\"))).click()"
   ]
  },
  {
   "cell_type": "code",
   "execution_count": 219,
   "id": "798e772e",
   "metadata": {},
   "outputs": [],
   "source": [
    "time.sleep(5)\n",
    "hastag = \"fashion\"\n",
    "driver.get(\"https://www.instagram.com/explore/tags/\" + hastag +\"/\")\n",
    "time.sleep(5)"
   ]
  },
  {
   "cell_type": "code",
   "execution_count": 220,
   "id": "961e2065",
   "metadata": {},
   "outputs": [],
   "source": [
    "n_scrolls = 3\n",
    "for i in range(1, n_scrolls):\n",
    "    driver.execute_script(\"window.scrollTo(0, document.body.scrollHeight);\")\n",
    "    time.sleep(5)"
   ]
  },
  {
   "cell_type": "code",
   "execution_count": 221,
   "id": "8000708a",
   "metadata": {},
   "outputs": [
    {
     "data": {
      "text/plain": [
       "['https://www.instagram.com/p/CTNiEDppCKN/',\n",
       " 'https://www.instagram.com/p/CTNlyPBP7QH/',\n",
       " 'https://www.instagram.com/p/CTNjsreJvxD/',\n",
       " 'https://www.instagram.com/p/CTNjNFrI17Y/',\n",
       " 'https://www.instagram.com/p/CTNialUoy6a/']"
      ]
     },
     "execution_count": 221,
     "metadata": {},
     "output_type": "execute_result"
    }
   ],
   "source": [
    "anchors =driver.find_elements_by_tag_name(\"a\")\n",
    "anchors = [a.get_attribute(\"href\") for a in anchors]\n",
    "anchors = [a for a in anchors if str(a).startswith (\"https://www.instagram.com/p/\")]\n",
    "anchors [:5]"
   ]
  },
  {
   "cell_type": "code",
   "execution_count": 222,
   "id": "40709a40",
   "metadata": {},
   "outputs": [
    {
     "name": "stdout",
     "output_type": "stream",
     "text": [
      "Hi Beautiful, I saw your photos and they are AMAZING! Wow! Wanna collab?\n",
      "I waited for 3seconds\n",
      "Hey Beautiful, I saw your photos and they are AMAZING! Wow! Wanna collab?\n",
      "I waited for 1seconds\n",
      "Hello Beautiful, I saw your photos and they are AMAZING! Wow! Wanna collab?\n",
      "I waited for 5seconds\n"
     ]
    }
   ],
   "source": [
    "data = anchors [:3]\n",
    "greetings = [\"Hi\", \"Hey\", \"Hello\", \"Heey\"]\n",
    "comment = \" Beautiful, I saw your photos and they are AMAZING! Wow! Wanna collab?\"\n",
    "\n",
    "for i in data:\n",
    "    driver.get(i)\n",
    "    time.sleep(5)\n",
    "    \n",
    "    idx = random.randint(0,(len(greetings) -1))\n",
    "    final_comment = greetings[idx] + comment\n",
    "    \n",
    "    form = driver.find_element_by_tag_name(\"form\").click()\n",
    "    textarea = driver.find_element_by_tag_name(\"textarea\")\n",
    "    textarea.send_keys(final_comment)\n",
    "    print (final_comment)\n",
    "    \n",
    "  \n",
    "    submit = WebDriverWait(driver,10).until(EC.element_to_be_clickable((By.CSS_SELECTOR,\"button[type='submit']\"))).click()\n",
    "    seconds = random.randint(1,10)\n",
    "    time.sleep(seconds)\n",
    "    print(\"I waited for \" + str (seconds) + \"seconds\")"
   ]
  },
  {
   "cell_type": "code",
   "execution_count": null,
   "id": "b90317a7",
   "metadata": {},
   "outputs": [],
   "source": []
  }
 ],
 "metadata": {
  "kernelspec": {
   "display_name": "Python 3",
   "language": "python",
   "name": "python3"
  },
  "language_info": {
   "codemirror_mode": {
    "name": "ipython",
    "version": 3
   },
   "file_extension": ".py",
   "mimetype": "text/x-python",
   "name": "python",
   "nbconvert_exporter": "python",
   "pygments_lexer": "ipython3",
   "version": "3.8.8"
  }
 },
 "nbformat": 4,
 "nbformat_minor": 5
}
