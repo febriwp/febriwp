{
 "cells": [
  {
   "cell_type": "code",
   "execution_count": 33,
   "id": "480e61aa",
   "metadata": {},
   "outputs": [
    {
     "ename": "SyntaxError",
     "evalue": "invalid syntax (<ipython-input-33-0bc37e4b5f05>, line 4)",
     "output_type": "error",
     "traceback": [
      "\u001b[1;36m  File \u001b[1;32m\"<ipython-input-33-0bc37e4b5f05>\"\u001b[1;36m, line \u001b[1;32m4\u001b[0m\n\u001b[1;33m    pip install pillow\u001b[0m\n\u001b[1;37m        ^\u001b[0m\n\u001b[1;31mSyntaxError\u001b[0m\u001b[1;31m:\u001b[0m invalid syntax\n"
     ]
    }
   ],
   "source": [
    "import urllib.request\n",
    "import random\n",
    "import os\n",
    "pip install pillow\n",
    "from PIL import Image, ImageOps, ImageDraw, ImageFont"
   ]
  },
  {
   "cell_type": "code",
   "execution_count": null,
   "id": "b81cd47e",
   "metadata": {},
   "outputs": [],
   "source": [
    "def wrap_by_word(s, n):\n",
    "    '''returns a string where \\\\n is inserted between every n words'''\n",
    "    a = s.split()\n",
    "    ret = ''\n",
    "    for i in range(0, len(a), n):\n",
    "        ret += ' '.join(a[i:i+n]) + '\\n'\n",
    "\n",
    "    return ret\n"
   ]
  },
  {
   "cell_type": "code",
   "execution_count": null,
   "id": "ca99d361",
   "metadata": {},
   "outputs": [],
   "source": [
    "def dl_image():\n",
    "    img_url = \"https://source.unsplash.com/random/2560x1080\"\n",
    "    img_name = os.path.basename(img_url)\n",
    "    urllib.request.urlretrieve(img_url,img_name + '.jpg')#save pic into folder\n",
    "    print('Downloading image {}'.format(img_name + '.jpg'))"
   ]
  },
  {
   "cell_type": "code",
   "execution_count": null,
   "id": "0040b851",
   "metadata": {},
   "outputs": [],
   "source": [
    "def get_quote():\n",
    "    quote_file = os.path.join(os.path.dirname(os.path.realpath(__file__)), 'quotes.txt')\n",
    "    f = open(quote_file, 'r')\n",
    "    txt = f.read()\n",
    "    lines = txt.split('\\n.\\n')\n",
    "    text_out = random.choice(lines)\n",
    "    print(text_out)\n",
    "    return text_out\n"
   ]
  },
  {
   "cell_type": "code",
   "execution_count": null,
   "id": "cbfdef9b",
   "metadata": {},
   "outputs": [],
   "source": [
    "def resize_ig_image():\n",
    "    image_file = os.path.join(os.path.dirname(os.path.realpath(__file__)), '2560x1080.jpg')\n",
    "    im = Image.open(image_file)\n",
    "    out = im.resize((1080,1080))\n",
    "    #save resized image\n",
    "    out.save('resize-output.png')"
   ]
  },
  {
   "cell_type": "code",
   "execution_count": null,
   "id": "d8a90d4d",
   "metadata": {},
   "outputs": [],
   "source": [
    "def crop_ig_image():\n",
    "    image_file = os.path.join(os.path.dirname(os.path.realpath(__file__)), '2560x1080.jpg')\n",
    "    im = Image.open(image_file)\n",
    "    croppedImage = im.crop((1,2,1080,1080))\n",
    "    croppedImage.save('cropped-output.png')"
   ]
  },
  {
   "cell_type": "code",
   "execution_count": null,
   "id": "613eb5c3",
   "metadata": {},
   "outputs": [],
   "source": [
    "def add_border():\n",
    "    image_file = os.path.join(os.path.dirname(os.path.realpath(__file__)), 'cropped-output.png')\n",
    "    im = Image.open(image_file).convert(\"RGBA\")\n",
    "    im_x, im_y = im.size\n",
    "\n",
    "    image_file_bg = os.path.join(os.path.dirname(os.path.realpath(__file__)), 'bginsta.jpg')\n",
    "    background = Image.open(image_file_bg).convert(\"RGBA\")\n",
    "\n",
    "    background_x, background_y = background.size\n",
    "\n",
    "    x = int((background_x-im_x)/2)\n",
    "    y = int((background_y-im_y)/2)\n",
    "\n",
    "    background.paste(im, (x, y), im)\n",
    "    background.save('overlayed_image.png',\"PNG\")"
   ]
  },
  {
   "cell_type": "code",
   "execution_count": null,
   "id": "7333f364",
   "metadata": {},
   "outputs": [],
   "source": [
    "def greyscale_ig():\n",
    "    image_file = os.path.join(os.path.dirname(os.path.realpath(__file__)), 'cropped-output.png')\n",
    "    im = Image.open(image_file).convert(\"RGBA\")\n",
    "    gray_image = ImageOps.grayscale(im)\n",
    "\n",
    "    gray_image.save('greyscaled.png',\"PNG\")\n"
   ]
  },
  {
   "cell_type": "code",
   "execution_count": null,
   "id": "57857896",
   "metadata": {},
   "outputs": [],
   "source": [
    "def text_overlay_ig(quotation):\n",
    "    image_file = os.path.join(os.path.dirname(os.path.realpath(__file__)), 'greyscaled.png')\n",
    "    im = Image.open(image_file).convert(\"RGBA\")\n",
    "    draw = ImageDraw.Draw(im)\n",
    "    font = ImageFont.truetype('KOMIKAX_.ttf', size=60)\n",
    "    font_author = ImageFont.truetype('KOMIKAX_.ttf', size=30)\n",
    "    # starting position of the message\n",
    "    (quote,author) = quotation.split('- ')\n",
    "    quote.strip('-')\n",
    "    quote = wrap_by_word(quote, 4)\n",
    "    \n",
    "    (x, y) = (50, 50)\n",
    "    message = quote\n",
    "    color = 'rgb(206, 0, 240)' # black color\n",
    "    # draw the message on the background\n",
    "    draw.text((x, y), message, fill=color, font=font)\n",
    "    (x, y) = (50, 1000)\n",
    "    name = \" - \" + author\n",
    "    color = 'rgb(255, 255, 255)' # white color\n",
    "    draw.text((x, y), name, fill=color, font=font_author)\n",
    "    im.save('text_overlay.png')\n"
   ]
  },
  {
   "cell_type": "code",
   "execution_count": null,
   "id": "0b4ad8c5",
   "metadata": {},
   "outputs": [],
   "source": [
    "dl_image()\n",
    "quotation = get_quote()\n",
    "resize_ig_image()\n",
    "crop_ig_image()\n",
    "add_border()\n",
    "greyscale_ig()\n",
    "text_overlay_ig(quotation)\n"
   ]
  },
  {
   "cell_type": "code",
   "execution_count": null,
   "id": "7feed3b7",
   "metadata": {},
   "outputs": [],
   "source": []
  }
 ],
 "metadata": {
  "kernelspec": {
   "display_name": "Python 3",
   "language": "python",
   "name": "python3"
  },
  "language_info": {
   "codemirror_mode": {
    "name": "ipython",
    "version": 3
   },
   "file_extension": ".py",
   "mimetype": "text/x-python",
   "name": "python",
   "nbconvert_exporter": "python",
   "pygments_lexer": "ipython3",
   "version": "3.8.8"
  }
 },
 "nbformat": 4,
 "nbformat_minor": 5
}
